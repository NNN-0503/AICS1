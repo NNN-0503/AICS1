{
  "nbformat": 4,
  "nbformat_minor": 0,
  "metadata": {
    "colab": {
      "provenance": [],
      "authorship_tag": "ABX9TyMJ9FG+6yTMM7h188EmF6u4",
      "include_colab_link": true
    },
    "kernelspec": {
      "name": "python3",
      "display_name": "Python 3"
    },
    "language_info": {
      "name": "python"
    }
  },
  "cells": [
    {
      "cell_type": "markdown",
      "metadata": {
        "id": "view-in-github",
        "colab_type": "text"
      },
      "source": [
        "<a href=\"https://colab.research.google.com/github/NNN-0503/AICS1/blob/main/AICS1.ipynb\" target=\"_parent\"><img src=\"https://colab.research.google.com/assets/colab-badge.svg\" alt=\"Open In Colab\"/></a>"
      ]
    },
    {
      "cell_type": "code",
      "source": [
        "List = [['Apple', 'Orange'], ['MANGO','Cheery']]\n",
        "# accessing an element from the Multi-Dimensional List using index number\n",
        "print(\"Accessing a element from a Multi-Dimensional list\")\n",
        "print(List[0][1])\n",
        "print(List[1][0])"
      ],
      "metadata": {
        "colab": {
          "base_uri": "https://localhost:8080/"
        },
        "id": "eX3su9fPgj7X",
        "outputId": "16a92f6c-8d37-4d4f-fb85-9390b447b68b"
      },
      "execution_count": null,
      "outputs": [
        {
          "output_type": "stream",
          "name": "stdout",
          "text": [
            "Accessing a element from a Multi-Dimensional list\n",
            "Orange\n",
            "MANGO\n"
          ]
        }
      ]
    },
    {
      "cell_type": "code",
      "source": [
        "L=[6,9,2,5,3]\n",
        "print(\"The minimum of the list is\",min(L))\n",
        "print(\"The maximum of the list is\",max(L))"
      ],
      "metadata": {
        "colab": {
          "base_uri": "https://localhost:8080/"
        },
        "id": "7vPdhqId_02a",
        "outputId": "4426c544-46c6-40a4-9cc5-304e1e568cb3"
      },
      "execution_count": 1,
      "outputs": [
        {
          "output_type": "stream",
          "name": "stdout",
          "text": [
            "The minimum of the list is 2\n",
            "The maximum of the list is 9\n"
          ]
        }
      ]
    },
    {
      "cell_type": "code",
      "source": [
        "list = [1, 2,3,4,5,6,9,7]\n",
        "print(len(list))"
      ],
      "metadata": {
        "colab": {
          "base_uri": "https://localhost:8080/"
        },
        "id": "lvn1p0X8Y-WL",
        "outputId": "8f63616a-ca20-412d-904f-f941ed33f21a"
      },
      "execution_count": 2,
      "outputs": [
        {
          "output_type": "stream",
          "name": "stdout",
          "text": [
            "8\n"
          ]
        }
      ]
    },
    {
      "cell_type": "code",
      "source": [
        "DICT = {\n",
        "  \"brand\": \"Ford\",\n",
        "  \"model\": \"Mustang\",\n",
        "  \"year\": 1964\n",
        "}\n",
        "print(type(DICT))"
      ],
      "metadata": {
        "colab": {
          "base_uri": "https://localhost:8080/"
        },
        "id": "mmGTXNDygaNR",
        "outputId": "0bd2bf3c-23c4-4c87-a080-8426a4022b48"
      },
      "execution_count": 3,
      "outputs": [
        {
          "output_type": "stream",
          "name": "stdout",
          "text": [
            "<class 'dict'>\n"
          ]
        }
      ]
    },
    {
      "cell_type": "code",
      "source": [
        "# Creating a Nested Dictionary\n",
        "Dict = {1: 'HELLO', 2: 'EVERYONE',\n",
        "        3: {'A': 'this', 'B': 'is', 'C': 'dictionary'}}\n",
        "  \n",
        "print(Dict)"
      ],
      "metadata": {
        "colab": {
          "base_uri": "https://localhost:8080/"
        },
        "id": "3Chc5XYAgqMi",
        "outputId": "f8db9ce0-0b88-4dfd-fefa-a910ed265c24"
      },
      "execution_count": 5,
      "outputs": [
        {
          "output_type": "stream",
          "name": "stdout",
          "text": [
            "{1: 'HELLO', 2: 'EVERYONE', 3: {'A': 'this', 'B': 'is', 'C': 'dictionary'}}\n"
          ]
        }
      ]
    },
    {
      "cell_type": "code",
      "source": [
        "# Creating a Dictionary\n",
        "Dict = {'Rollno': '07', 'First name': 'Netra', 'Last name': 'Nachankar'}\n",
        "  \n",
        "# accessing a element using key\n",
        "print(\"Accessing a element using key:\")\n",
        "print(Dict['First name'])  \n",
        "# accessing a element using key\n",
        "print(\"Accessing a element using key:\")\n",
        "print(Dict['Rollno'])"
      ],
      "metadata": {
        "colab": {
          "base_uri": "https://localhost:8080/"
        },
        "id": "qKcqoPXTg8Tt",
        "outputId": "439c49c4-ab55-463b-e665-12d6681f7ef6"
      },
      "execution_count": 9,
      "outputs": [
        {
          "output_type": "stream",
          "name": "stdout",
          "text": [
            "Accessing a element using key:\n",
            "Netra\n",
            "Accessing a element using key:\n",
            "07\n"
          ]
        }
      ]
    },
    {
      "cell_type": "code",
      "source": [
        "# Creating a Dictionary\n",
        "Dict = {'Gold': {'India': 10},\n",
        "        'Silver': {'USA': 5}}\n",
        "  \n",
        "# Accessing element using key\n",
        "print(Dict['Gold'])\n",
        "print(Dict['Gold']['India'])\n",
        "print(Dict['Silver']['USA'])"
      ],
      "metadata": {
        "colab": {
          "base_uri": "https://localhost:8080/"
        },
        "id": "PaDQNT37hahi",
        "outputId": "0cd885b5-6020-4c36-ab38-6b1ac8fdce50"
      },
      "execution_count": 10,
      "outputs": [
        {
          "output_type": "stream",
          "name": "stdout",
          "text": [
            "{'India': 10}\n",
            "10\n",
            "5\n"
          ]
        }
      ]
    },
    {
      "cell_type": "code",
      "source": [],
      "metadata": {
        "id": "BxZ9WiS4iAgT"
      },
      "execution_count": null,
      "outputs": []
    }
  ]
}