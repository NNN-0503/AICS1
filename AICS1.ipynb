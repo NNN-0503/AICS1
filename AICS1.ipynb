{
  "nbformat": 4,
  "nbformat_minor": 0,
  "metadata": {
    "colab": {
      "provenance": [],
      "authorship_tag": "ABX9TyP/F9KdQ9AUHA/KRwMj8EG1",
      "include_colab_link": true
    },
    "kernelspec": {
      "name": "python3",
      "display_name": "Python 3"
    },
    "language_info": {
      "name": "python"
    }
  },
  "cells": [
    {
      "cell_type": "markdown",
      "metadata": {
        "id": "view-in-github",
        "colab_type": "text"
      },
      "source": [
        "<a href=\"https://colab.research.google.com/github/NNN-0503/AICS1/blob/main/AICS1.ipynb\" target=\"_parent\"><img src=\"https://colab.research.google.com/assets/colab-badge.svg\" alt=\"Open In Colab\"/></a>"
      ]
    },
    {
      "cell_type": "code",
      "execution_count": 2,
      "metadata": {
        "colab": {
          "base_uri": "https://localhost:8080/"
        },
        "id": "IRAXr3omfiyc",
        "outputId": "22e312a3-b583-453d-8c2d-040f595c462b"
      },
      "outputs": [
        {
          "output_type": "stream",
          "name": "stdout",
          "text": [
            "hello world\n"
          ]
        }
      ],
      "source": [
        "print(\"hello world\")"
      ]
    },
    {
      "cell_type": "code",
      "source": [
        "List = [['Geeks', 'For'], ['Geeks']]\n",
        "  \n",
        "# accessing an element from the Multi-Dimensional List using index number\n",
        "print(\"Accessing a element from a Multi-Dimensional list\")\n",
        "print(List[0][1])\n",
        "print(List[1][0])"
      ],
      "metadata": {
        "colab": {
          "base_uri": "https://localhost:8080/"
        },
        "id": "eX3su9fPgj7X",
        "outputId": "c7909463-7cfd-412a-d226-18e24b9b78ad"
      },
      "execution_count": 1,
      "outputs": [
        {
          "output_type": "stream",
          "name": "stdout",
          "text": [
            "Accessing a element from a Multi-Dimensional list\n",
            "For\n",
            "Geeks\n"
          ]
        }
      ]
    }
  ]
}